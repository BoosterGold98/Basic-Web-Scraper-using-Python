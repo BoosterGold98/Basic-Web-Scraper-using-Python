{
  "nbformat": 4,
  "nbformat_minor": 0,
  "metadata": {
    "colab": {
      "name": "Basic Web Scraper.ipynb",
      "provenance": [],
      "collapsed_sections": [],
      "authorship_tag": "ABX9TyPLf40XsdNoCmKdXCZ6fiIJ",
      "include_colab_link": true
    },
    "kernelspec": {
      "name": "python3",
      "display_name": "Python 3"
    }
  },
  "cells": [
    {
      "cell_type": "markdown",
      "metadata": {
        "id": "view-in-github",
        "colab_type": "text"
      },
      "source": [
        "<a href=\"https://colab.research.google.com/github/BoosterGold98/Basic-Web-Scraper-using-Python/blob/master/Basic_Web_Scraper.ipynb\" target=\"_parent\"><img src=\"https://colab.research.google.com/assets/colab-badge.svg\" alt=\"Open In Colab\"/></a>"
      ]
    },
    {
      "cell_type": "code",
      "metadata": {
        "id": "ENBf-gCtVRa7",
        "colab_type": "code",
        "colab": {}
      },
      "source": [
        "from bs4 import BeautifulSoup           \n",
        "import requests\n",
        "from requests import get \n",
        "import pandas as pd\n",
        "import numpy as np"
      ],
      "execution_count": null,
      "outputs": []
    },
    {
      "cell_type": "code",
      "metadata": {
        "id": "Do6IP-uwQb9b",
        "colab_type": "code",
        "colab": {}
      },
      "source": [
        "URL = 'http://books.toscrape.com/'\n",
        "results = requests.get(URL)                             # used to fetch the URL\n",
        "soup = BeautifulSoup(results.content, 'html.parser')\n",
        "print(soup.prettify())                                  # gives the fetched html code a structure to make working with HTMl nested tags easier"
      ],
      "execution_count": null,
      "outputs": []
    },
    {
      "cell_type": "code",
      "metadata": {
        "id": "v81zzuWKco4n",
        "colab_type": "code",
        "colab": {
          "base_uri": "https://localhost:8080/",
          "height": 54
        },
        "outputId": "df9de680-8a92-4763-e8b8-22f498d849ab"
      },
      "source": [
        "name = []                        # Book title\n",
        "titles = soup.find_all('h3')\n",
        "for container in titles:\n",
        "  tag = container.a['title']       # the titles of all the a tags inside the h3 tags\n",
        "  name.append(tag)\n",
        "print(name)"
      ],
      "execution_count": null,
      "outputs": [
        {
          "output_type": "stream",
          "text": [
            "['A Light in the Attic', 'Tipping the Velvet', 'Soumission', 'Sharp Objects', 'Sapiens: A Brief History of Humankind', 'The Requiem Red', 'The Dirty Little Secrets of Getting Your Dream Job', 'The Coming Woman: A Novel Based on the Life of the Infamous Feminist, Victoria Woodhull', 'The Boys in the Boat: Nine Americans and Their Epic Quest for Gold at the 1936 Berlin Olympics', 'The Black Maria', 'Starving Hearts (Triangular Trade Trilogy, #1)', \"Shakespeare's Sonnets\", 'Set Me Free', \"Scott Pilgrim's Precious Little Life (Scott Pilgrim #1)\", 'Rip it Up and Start Again', 'Our Band Could Be Your Life: Scenes from the American Indie Underground, 1981-1991', 'Olio', 'Mesaerion: The Best Science Fiction Stories 1800-1849', 'Libertarianism for Beginners', \"It's Only the Himalayas\"]\n"
          ],
          "name": "stdout"
        }
      ]
    },
    {
      "cell_type": "code",
      "metadata": {
        "id": "Edr8cWgTrwiw",
        "colab_type": "code",
        "colab": {
          "base_uri": "https://localhost:8080/",
          "height": 34
        },
        "outputId": "f40af696-4f83-4c2b-cb8d-c99872185220"
      },
      "source": [
        "price = []                                       # Book price\n",
        "p = soup.find_all(\"p\", class_=\"price_color\")\n",
        "for container in p:\n",
        "  t = container.string                           # fetch the text in the p tag i.e. the price\n",
        "  t = t[1:]                                      # Removing the €\n",
        "  t = float(t)                                   # Converting to float for easier data analysis\n",
        "  price.append(t)\n",
        "print(price)"
      ],
      "execution_count": null,
      "outputs": [
        {
          "output_type": "stream",
          "text": [
            "[51.77, 53.74, 50.1, 47.82, 54.23, 22.65, 33.34, 17.93, 22.6, 52.15, 13.99, 20.66, 17.46, 52.29, 35.02, 57.25, 23.88, 37.59, 51.33, 45.17]\n"
          ],
          "name": "stdout"
        }
      ]
    },
    {
      "cell_type": "code",
      "metadata": {
        "id": "5p3muUjg_7XT",
        "colab_type": "code",
        "colab": {}
      },
      "source": [
        "ratings = []                                         # Book rating\n",
        "rt = 0\n",
        "r = soup.find_all(\"article\", class_=\"product_pod\")\n",
        "for container in r:\n",
        "  k = container.p['class']                           # fetching the class of the p tags in the article tags with class product_pod\n",
        "  if(k[1]=='One'):\n",
        "    rt=1\n",
        "  if(k[1]=='Two'):\n",
        "    rt=2\n",
        "  if(k[1]=='Three'):\n",
        "    rt=3\n",
        "  if(k[1]=='Four'):\n",
        "    rt=4\n",
        "  if(k[1]=='Five'):\n",
        "    rt=5\n",
        "  ratings.append(rt)\n",
        "print(ratings)"
      ],
      "execution_count": null,
      "outputs": []
    },
    {
      "cell_type": "code",
      "metadata": {
        "id": "rMdN695BGzOi",
        "colab_type": "code",
        "colab": {}
      },
      "source": [
        "Books = pd.DataFrame({         # Creating a pandas dataframe\n",
        "    'Title': name,\n",
        "    'Price':price,\n",
        "    'Rating':ratings,\n",
        "})\n",
        "print(Books)"
      ],
      "execution_count": null,
      "outputs": []
    },
    {
      "cell_type": "code",
      "metadata": {
        "id": "Aw-LG_WkHtzx",
        "colab_type": "code",
        "colab": {}
      },
      "source": [
        "Books.to_csv('Books.csv')      # Exporting to a CSV"
      ],
      "execution_count": null,
      "outputs": []
    }
  ]
}