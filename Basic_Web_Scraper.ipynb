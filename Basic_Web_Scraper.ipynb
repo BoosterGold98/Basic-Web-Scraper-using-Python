{
  "nbformat": 4,
  "nbformat_minor": 0,
  "metadata": {
    "colab": {
      "name": "Basic Web Scraper.ipynb",
      "provenance": [],
      "collapsed_sections": [],
      "authorship_tag": "ABX9TyP8d5xK+xuZSEQUWEiXXPyz",
      "include_colab_link": true
    },
    "kernelspec": {
      "name": "python3",
      "display_name": "Python 3"
    }
  },
  "cells": [
    {
      "cell_type": "markdown",
      "metadata": {
        "id": "view-in-github",
        "colab_type": "text"
      },
      "source": [
        "<a href=\"https://colab.research.google.com/github/BoosterGold98/Basic-Web-Scraper-using-Python/blob/master/Basic_Web_Scraper.ipynb\" target=\"_parent\"><img src=\"https://colab.research.google.com/assets/colab-badge.svg\" alt=\"Open In Colab\"/></a>"
      ]
    },
    {
      "cell_type": "code",
      "metadata": {
        "id": "ENBf-gCtVRa7",
        "colab_type": "code",
        "colab": {}
      },
      "source": [
        "from bs4 import BeautifulSoup           \n",
        "import requests\n",
        "from requests import get \n",
        "import pandas as pd\n",
        "import numpy as np"
      ],
      "execution_count": null,
      "outputs": []
    },
    {
      "cell_type": "code",
      "metadata": {
        "id": "Do6IP-uwQb9b",
        "colab_type": "code",
        "colab": {}
      },
      "source": [
        "URL = 'http://books.toscrape.com/'\n",
        "results = requests.get(URL)                             # used to fetch the URL\n",
        "soup = BeautifulSoup(results.content, 'html.parser')\n",
        "print(soup.prettify())               # gives the fetched html code a structure to make working with HTMl nested tags easier"
      ],
      "execution_count": null,
      "outputs": []
    },
    {
      "cell_type": "code",
      "metadata": {
        "id": "v81zzuWKco4n",
        "colab_type": "code",
        "colab": {}
      },
      "source": [
        "name = []                        # Book title\n",
        "titles = soup.find_all('h3')\n",
        "for container in titles:\n",
        "  tag = container.a['title']       # the titles of all the a tags inside the h3 tags\n",
        "  name.append(tag)\n",
        "print(name)"
      ],
      "execution_count": null,
      "outputs": []
    },
    {
      "cell_type": "code",
      "metadata": {
        "id": "Edr8cWgTrwiw",
        "colab_type": "code",
        "colab": {}
      },
      "source": [
        "price = []                                       # Book price\n",
        "p = soup.find_all(\"p\", class_=\"price_color\")\n",
        "for container in p:\n",
        "  t = container.string                           # fetch the text in the p tag i.e. the price\n",
        "  t = t[1:]                                      # Removing the €\n",
        "  t = float(t)                                   # Converting to float for easier data analysis\n",
        "  price.append(t)\n",
        "print(price)"
      ],
      "execution_count": null,
      "outputs": []
    },
    {
      "cell_type": "code",
      "metadata": {
        "id": "5p3muUjg_7XT",
        "colab_type": "code",
        "colab": {}
      },
      "source": [
        "ratings = []                                         # Book rating\n",
        "rt = 0\n",
        "r = soup.find_all(\"article\", class_=\"product_pod\")\n",
        "for container in r:\n",
        "  k = container.p['class']                           # fetching the class of the p tags in the article tags with class product_pod\n",
        "  if(k[1]=='One'):\n",
        "    rt=1\n",
        "  if(k[1]=='Two'):\n",
        "    rt=2\n",
        "  if(k[1]=='Three'):\n",
        "    rt=3\n",
        "  if(k[1]=='Four'):\n",
        "    rt=4\n",
        "  if(k[1]=='Five'):\n",
        "    rt=5\n",
        "  ratings.append(rt)\n",
        "print(ratings)"
      ],
      "execution_count": null,
      "outputs": []
    },
    {
      "cell_type": "code",
      "metadata": {
        "id": "rMdN695BGzOi",
        "colab_type": "code",
        "colab": {}
      },
      "source": [
        "Books = pd.DataFrame({         # Creating a pandas dataframe\n",
        "    'Title': name,\n",
        "    'Price':price,\n",
        "    'Rating':ratings,\n",
        "})\n",
        "print(Books)"
      ],
      "execution_count": null,
      "outputs": []
    },
    {
      "cell_type": "code",
      "metadata": {
        "id": "Aw-LG_WkHtzx",
        "colab_type": "code",
        "colab": {}
      },
      "source": [
        "Books.to_csv('Books.csv')      # Exporting to a CSV"
      ],
      "execution_count": null,
      "outputs": []
    }
  ]
}